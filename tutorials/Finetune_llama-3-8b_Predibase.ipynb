{
 "cells": [
  {
   "cell_type": "markdown",
   "metadata": {},
   "source": [
    "# Fine-tuning Llama-3-8b on a Custom Dataset using Predibase\n",
    "\n",
    "In this notebook, I demonstrate the process of fine-tuning the [Llama-3-8b](https://ai.meta.com/llama/) Large Language Model (LLM) on a custom dataset using the [Predibase](https://predibase.com/) platform. The focus of this exercise is a subset of 1000 (`1K`) examples from the [ViGGO dataset](https://huggingface.co/datasets/GEM/viggo). \n",
    "\n",
    "The task here is to predict the structured functional representation with function names, attributes and corresponding values.\n",
    "\n",
    "The main objectives of this exercise are:\n",
    "\n",
    "1. To showcase how quickly and efficiently one can set up and fine-tune a model on a platform like Predibase. It is quite cheap too.\n",
    "2. To explore the out-of-the-box fine-tuning performance achievable with a random selection of 1000 examples. A key question is whether this performance can approach the benchmarks set by models like GPT-4 and Sonnet-3.5.\n",
    "\n",
    "> You can also check the associated [blog](https://aayushgarg.dev/2024-07-15-finetune-llama3-8B-predibase/) on fine-tuning a Llama-3-8B model on the Predibase platform for structured functional representation extraction.\n",
    "\n",
    "This notebook will guide you through the entire process, from data preparation to model evaluation, providing insights into the capabilities of fine-tuned language models on specialized tasks."
   ]
  },
  {
   "cell_type": "code",
   "execution_count": 35,
   "metadata": {},
   "outputs": [],
   "source": [
    "\n",
    "# Import necessary libraries\n",
    "import os, re\n",
    "import json\n",
    "import pandas as pd\n",
    "from datasets import load_dataset\n",
    "from predibase import Predibase, FinetuningConfig, DeploymentConfig\n",
    "import seaborn as sns\n",
    "import matplotlib.pyplot as plt\n",
    "import numpy as np\n",
    "from helper_functions import *"
   ]
  },
  {
   "cell_type": "markdown",
   "metadata": {},
   "source": [
    "## Step 1: Create the 1000 Examples Dataset"
   ]
  },
  {
   "cell_type": "markdown",
   "metadata": {},
   "source": [
    "### Download the ViGGO dataset"
   ]
  },
  {
   "cell_type": "code",
   "execution_count": 3,
   "metadata": {},
   "outputs": [
    {
     "name": "stdout",
     "output_type": "stream",
     "text": [
      "ViGGO dataset structure:\n",
      "DatasetDict({\n",
      "    train: Dataset({\n",
      "        features: ['gem_id', 'meaning_representation', 'target', 'references'],\n",
      "        num_rows: 5103\n",
      "    })\n",
      "    validation: Dataset({\n",
      "        features: ['gem_id', 'meaning_representation', 'target', 'references'],\n",
      "        num_rows: 714\n",
      "    })\n",
      "    test: Dataset({\n",
      "        features: ['gem_id', 'meaning_representation', 'target', 'references'],\n",
      "        num_rows: 1083\n",
      "    })\n",
      "    challenge_train_1_percent: Dataset({\n",
      "        features: ['gem_id', 'meaning_representation', 'target', 'references'],\n",
      "        num_rows: 50\n",
      "    })\n",
      "    challenge_train_2_percent: Dataset({\n",
      "        features: ['gem_id', 'meaning_representation', 'target', 'references'],\n",
      "        num_rows: 103\n",
      "    })\n",
      "    challenge_train_5_percent: Dataset({\n",
      "        features: ['gem_id', 'meaning_representation', 'target', 'references'],\n",
      "        num_rows: 256\n",
      "    })\n",
      "    challenge_train_10_percent: Dataset({\n",
      "        features: ['gem_id', 'meaning_representation', 'target', 'references'],\n",
      "        num_rows: 510\n",
      "    })\n",
      "    challenge_train_20_percent: Dataset({\n",
      "        features: ['gem_id', 'meaning_representation', 'target', 'references'],\n",
      "        num_rows: 1021\n",
      "    })\n",
      "})\n"
     ]
    }
   ],
   "source": [
    "# Download the ViGGO dataset\n",
    "dataset = load_dataset(\"GEM/viggo\")\n",
    "print(\"ViGGO dataset structure:\")\n",
    "dataset"
   ]
  },
  {
   "cell_type": "code",
   "execution_count": 5,
   "metadata": {},
   "outputs": [
    {
     "name": "stdout",
     "output_type": "stream",
     "text": [
      "\n",
      "Train dataset structure:\n"
     ]
    },
    {
     "data": {
      "text/plain": [
       "Dataset({\n",
       "    features: ['gem_id', 'meaning_representation', 'target', 'references'],\n",
       "    num_rows: 5103\n",
       "})"
      ]
     },
     "execution_count": 5,
     "metadata": {},
     "output_type": "execute_result"
    }
   ],
   "source": [
    "# Get the train split\n",
    "train_dataset = dataset['train']\n",
    "print(\"\\nTrain dataset structure:\")\n",
    "train_dataset"
   ]
  },
  {
   "cell_type": "markdown",
   "metadata": {},
   "source": [
    "### Remove extra columns and rename relevant input and output columns"
   ]
  },
  {
   "cell_type": "code",
   "execution_count": 6,
   "metadata": {},
   "outputs": [
    {
     "data": {
      "text/plain": [
       "Dataset({\n",
       "    features: ['functional_representation', 'text'],\n",
       "    num_rows: 5103\n",
       "})"
      ]
     },
     "execution_count": 6,
     "metadata": {},
     "output_type": "execute_result"
    }
   ],
   "source": [
    "# columns to keep in the dataset\n",
    "cols_to_keep = {\n",
    "    \"target\": \"text\", \n",
    "    \"meaning_representation\": \"functional_representation\"\n",
    "    }\n",
    "\n",
    "# remove columns except cols_to_keep\n",
    "cols_to_remove = list(train_dataset.column_names)\n",
    "cols_to_remove = [col for col in cols_to_remove if col not in list(cols_to_keep.keys())]\n",
    "train_dataset = train_dataset.remove_columns(cols_to_remove)\n",
    "\n",
    "# rename columns\n",
    "train_dataset = train_dataset.rename_columns(cols_to_keep)\n",
    "train_dataset"
   ]
  },
  {
   "cell_type": "markdown",
   "metadata": {},
   "source": [
    "### Randomly select 1000 examples from the cleaned dataset"
   ]
  },
  {
   "cell_type": "code",
   "execution_count": 7,
   "metadata": {},
   "outputs": [
    {
     "name": "stdout",
     "output_type": "stream",
     "text": [
      "\n",
      "Subset of 1000 examples:\n"
     ]
    },
    {
     "data": {
      "text/plain": [
       "Dataset({\n",
       "    features: ['functional_representation', 'text'],\n",
       "    num_rows: 1000\n",
       "})"
      ]
     },
     "execution_count": 7,
     "metadata": {},
     "output_type": "execute_result"
    }
   ],
   "source": [
    "# Randomly select 1000 examples\n",
    "max_examples = 1000\n",
    "seed = 200\n",
    "\n",
    "train_dataset = train_dataset.shuffle(seed).select(range(max_examples))\n",
    "print(\"\\nSubset of 1000 examples:\")\n",
    "train_dataset"
   ]
  },
  {
   "cell_type": "markdown",
   "metadata": {},
   "source": [
    "#### Split the data into train and validation"
   ]
  },
  {
   "cell_type": "code",
   "execution_count": 8,
   "metadata": {},
   "outputs": [
    {
     "name": "stdout",
     "output_type": "stream",
     "text": [
      "\n",
      "Split dataset:\n",
      "DatasetDict({\n",
      "    train: Dataset({\n",
      "        features: ['functional_representation', 'text'],\n",
      "        num_rows: 900\n",
      "    })\n",
      "    test: Dataset({\n",
      "        features: ['functional_representation', 'text'],\n",
      "        num_rows: 100\n",
      "    })\n",
      "})\n"
     ]
    }
   ],
   "source": [
    "# Split the data into train and validation\n",
    "val_size = 0.1\n",
    "train_dataset = train_dataset.train_test_split(test_size=val_size, seed=seed)\n",
    "\n",
    "print(\"\\nSplit dataset:\")\n",
    "print(train_dataset)"
   ]
  },
  {
   "cell_type": "markdown",
   "metadata": {},
   "source": [
    "### Convert to pandas dataframe for easier manipulation\n"
   ]
  },
  {
   "cell_type": "code",
   "execution_count": 10,
   "metadata": {},
   "outputs": [
    {
     "name": "stdout",
     "output_type": "stream",
     "text": [
      "\n",
      "Training data sample:\n"
     ]
    },
    {
     "data": {
      "text/html": [
       "<div>\n",
       "<style scoped>\n",
       "    .dataframe tbody tr th:only-of-type {\n",
       "        vertical-align: middle;\n",
       "    }\n",
       "\n",
       "    .dataframe tbody tr th {\n",
       "        vertical-align: top;\n",
       "    }\n",
       "\n",
       "    .dataframe thead th {\n",
       "        text-align: right;\n",
       "    }\n",
       "</style>\n",
       "<table border=\"1\" class=\"dataframe\">\n",
       "  <thead>\n",
       "    <tr style=\"text-align: right;\">\n",
       "      <th></th>\n",
       "      <th>functional_representation</th>\n",
       "      <th>text</th>\n",
       "    </tr>\n",
       "  </thead>\n",
       "  <tbody>\n",
       "    <tr>\n",
       "      <th>0</th>\n",
       "      <td>give_opinion(name[Tom Clancy's Splinter Cell: ...</td>\n",
       "      <td>I thought that Tom Clancy's Splinter Cell: Cha...</td>\n",
       "    </tr>\n",
       "    <tr>\n",
       "      <th>1</th>\n",
       "      <td>inform(name[Tomb Raider: The Last Revelation],...</td>\n",
       "      <td>Tomb Raider: The Last Revelation is an action-...</td>\n",
       "    </tr>\n",
       "    <tr>\n",
       "      <th>2</th>\n",
       "      <td>verify_attribute(name[The Elder Scrolls V: Sky...</td>\n",
       "      <td>I wonder, since you enjoyed The Elder Scrolls ...</td>\n",
       "    </tr>\n",
       "    <tr>\n",
       "      <th>3</th>\n",
       "      <td>give_opinion(name[The Elder Scrolls V: Skyrim]...</td>\n",
       "      <td>The Elder Scrolls V: Skyrim felt way ahead of ...</td>\n",
       "    </tr>\n",
       "    <tr>\n",
       "      <th>4</th>\n",
       "      <td>request_explanation(rating[poor], genres[text ...</td>\n",
       "      <td>What is it that you find most disappointing ab...</td>\n",
       "    </tr>\n",
       "  </tbody>\n",
       "</table>\n",
       "</div>"
      ],
      "text/plain": [
       "                           functional_representation  \\\n",
       "0  give_opinion(name[Tom Clancy's Splinter Cell: ...   \n",
       "1  inform(name[Tomb Raider: The Last Revelation],...   \n",
       "2  verify_attribute(name[The Elder Scrolls V: Sky...   \n",
       "3  give_opinion(name[The Elder Scrolls V: Skyrim]...   \n",
       "4  request_explanation(rating[poor], genres[text ...   \n",
       "\n",
       "                                                text  \n",
       "0  I thought that Tom Clancy's Splinter Cell: Cha...  \n",
       "1  Tomb Raider: The Last Revelation is an action-...  \n",
       "2  I wonder, since you enjoyed The Elder Scrolls ...  \n",
       "3  The Elder Scrolls V: Skyrim felt way ahead of ...  \n",
       "4  What is it that you find most disappointing ab...  "
      ]
     },
     "execution_count": 10,
     "metadata": {},
     "output_type": "execute_result"
    }
   ],
   "source": [
    "# Convert to pandas dataframe\n",
    "train_df = train_dataset['train'].to_pandas()\n",
    "val_df = train_dataset['test'].to_pandas()\n",
    "\n",
    "print(\"Training data sample:\")\n",
    "train_df.head()\n"
   ]
  },
  {
   "cell_type": "code",
   "execution_count": 11,
   "metadata": {},
   "outputs": [
    {
     "name": "stdout",
     "output_type": "stream",
     "text": [
      "Validation data sample:\n"
     ]
    },
    {
     "data": {
      "text/html": [
       "<div>\n",
       "<style scoped>\n",
       "    .dataframe tbody tr th:only-of-type {\n",
       "        vertical-align: middle;\n",
       "    }\n",
       "\n",
       "    .dataframe tbody tr th {\n",
       "        vertical-align: top;\n",
       "    }\n",
       "\n",
       "    .dataframe thead th {\n",
       "        text-align: right;\n",
       "    }\n",
       "</style>\n",
       "<table border=\"1\" class=\"dataframe\">\n",
       "  <thead>\n",
       "    <tr style=\"text-align: right;\">\n",
       "      <th></th>\n",
       "      <th>functional_representation</th>\n",
       "      <th>text</th>\n",
       "    </tr>\n",
       "  </thead>\n",
       "  <tbody>\n",
       "    <tr>\n",
       "      <th>0</th>\n",
       "      <td>inform(name[Worms: Reloaded], release_year[201...</td>\n",
       "      <td>Worms: Reloaded is an action, platformer, and ...</td>\n",
       "    </tr>\n",
       "    <tr>\n",
       "      <th>1</th>\n",
       "      <td>give_opinion(name[Far Cry 3], release_year[201...</td>\n",
       "      <td>Far Cry 3 is a pretty good game. It came out i...</td>\n",
       "    </tr>\n",
       "    <tr>\n",
       "      <th>2</th>\n",
       "      <td>give_opinion(name[Need for Speed: Most Wanted]...</td>\n",
       "      <td>I had a good time playing Need for Speed: Most...</td>\n",
       "    </tr>\n",
       "    <tr>\n",
       "      <th>3</th>\n",
       "      <td>inform(name[The Legend of Zelda: Ocarina of Ti...</td>\n",
       "      <td>The Legend of Zelda: Ocarina of Time was relea...</td>\n",
       "    </tr>\n",
       "    <tr>\n",
       "      <th>4</th>\n",
       "      <td>give_opinion(name[The Elder Scrolls V: Skyrim]...</td>\n",
       "      <td>I know The Elder Scrolls V: Skyrim is an M rat...</td>\n",
       "    </tr>\n",
       "  </tbody>\n",
       "</table>\n",
       "</div>"
      ],
      "text/plain": [
       "                           functional_representation  \\\n",
       "0  inform(name[Worms: Reloaded], release_year[201...   \n",
       "1  give_opinion(name[Far Cry 3], release_year[201...   \n",
       "2  give_opinion(name[Need for Speed: Most Wanted]...   \n",
       "3  inform(name[The Legend of Zelda: Ocarina of Ti...   \n",
       "4  give_opinion(name[The Elder Scrolls V: Skyrim]...   \n",
       "\n",
       "                                                text  \n",
       "0  Worms: Reloaded is an action, platformer, and ...  \n",
       "1  Far Cry 3 is a pretty good game. It came out i...  \n",
       "2  I had a good time playing Need for Speed: Most...  \n",
       "3  The Legend of Zelda: Ocarina of Time was relea...  \n",
       "4  I know The Elder Scrolls V: Skyrim is an M rat...  "
      ]
     },
     "execution_count": 11,
     "metadata": {},
     "output_type": "execute_result"
    }
   ],
   "source": [
    "print(\"Validation data sample:\")\n",
    "val_df.head()"
   ]
  },
  {
   "cell_type": "markdown",
   "metadata": {},
   "source": [
    "## Step 2: Prepare the Dataset for Predibase\n",
    "- Predibase requires you to upload the instruction fine-tuning dataset in particular format. This is from [Predibase docs](https://docs.predibase.com/user-guide/fine-tuning/prepare-data#how-to-structure-your-dataset):\n",
    "\n",
    "> For instruction fine-tuning, your dataset must contain two columns named prompt and completion:\n",
    ">   - prompt: Your input prompt. It serves as the starting point or the guiding information for the model.\n",
    ">   - completion: The expected response that corresponds to the input provided in the \"prompt\" column.\n",
    ">   - split (optional): Should be either train or evaluation. To learn more, check out this section.\n",
    "\n",
    "First, I will create a single CSV file single  containing both training and validation data."
   ]
  },
  {
   "cell_type": "markdown",
   "metadata": {},
   "source": [
    "### Prompt template for the input\n",
    "\n",
    "**Note**: You cannot configure the prompt templates as part of the fine-tuning job anymore. Instead, you need to format the full prompt ahead of time. "
   ]
  },
  {
   "cell_type": "code",
   "execution_count": 13,
   "metadata": {},
   "outputs": [],
   "source": [
    "prompt_template = \"\"\"Given a target sentence convert it structured functional representation.\n",
    "\n",
    "### Target sentence: {text}\n",
    "\n",
    "### Output Functional representation:\n",
    "\"\"\""
   ]
  },
  {
   "cell_type": "code",
   "execution_count": 14,
   "metadata": {},
   "outputs": [
    {
     "name": "stdout",
     "output_type": "stream",
     "text": [
      "No. of Train Examples: 900\n",
      "No. of Eval Examples: 100\n",
      "Sample of prepared data:\n"
     ]
    },
    {
     "data": {
      "text/html": [
       "<div>\n",
       "<style scoped>\n",
       "    .dataframe tbody tr th:only-of-type {\n",
       "        vertical-align: middle;\n",
       "    }\n",
       "\n",
       "    .dataframe tbody tr th {\n",
       "        vertical-align: top;\n",
       "    }\n",
       "\n",
       "    .dataframe thead th {\n",
       "        text-align: right;\n",
       "    }\n",
       "</style>\n",
       "<table border=\"1\" class=\"dataframe\">\n",
       "  <thead>\n",
       "    <tr style=\"text-align: right;\">\n",
       "      <th></th>\n",
       "      <th>prompt</th>\n",
       "      <th>completion</th>\n",
       "      <th>split</th>\n",
       "    </tr>\n",
       "  </thead>\n",
       "  <tbody>\n",
       "    <tr>\n",
       "      <th>0</th>\n",
       "      <td>Given a target sentence convert it structured ...</td>\n",
       "      <td>give_opinion(name[Tom Clancy's Splinter Cell: ...</td>\n",
       "      <td>train</td>\n",
       "    </tr>\n",
       "    <tr>\n",
       "      <th>1</th>\n",
       "      <td>Given a target sentence convert it structured ...</td>\n",
       "      <td>inform(name[Tomb Raider: The Last Revelation],...</td>\n",
       "      <td>train</td>\n",
       "    </tr>\n",
       "    <tr>\n",
       "      <th>2</th>\n",
       "      <td>Given a target sentence convert it structured ...</td>\n",
       "      <td>verify_attribute(name[The Elder Scrolls V: Sky...</td>\n",
       "      <td>train</td>\n",
       "    </tr>\n",
       "    <tr>\n",
       "      <th>3</th>\n",
       "      <td>Given a target sentence convert it structured ...</td>\n",
       "      <td>give_opinion(name[The Elder Scrolls V: Skyrim]...</td>\n",
       "      <td>train</td>\n",
       "    </tr>\n",
       "    <tr>\n",
       "      <th>4</th>\n",
       "      <td>Given a target sentence convert it structured ...</td>\n",
       "      <td>request_explanation(rating[poor], genres[text ...</td>\n",
       "      <td>train</td>\n",
       "    </tr>\n",
       "  </tbody>\n",
       "</table>\n",
       "</div>"
      ],
      "text/plain": [
       "                                              prompt  \\\n",
       "0  Given a target sentence convert it structured ...   \n",
       "1  Given a target sentence convert it structured ...   \n",
       "2  Given a target sentence convert it structured ...   \n",
       "3  Given a target sentence convert it structured ...   \n",
       "4  Given a target sentence convert it structured ...   \n",
       "\n",
       "                                          completion  split  \n",
       "0  give_opinion(name[Tom Clancy's Splinter Cell: ...  train  \n",
       "1  inform(name[Tomb Raider: The Last Revelation],...  train  \n",
       "2  verify_attribute(name[The Elder Scrolls V: Sky...  train  \n",
       "3  give_opinion(name[The Elder Scrolls V: Skyrim]...  train  \n",
       "4  request_explanation(rating[poor], genres[text ...  train  "
      ]
     },
     "execution_count": 14,
     "metadata": {},
     "output_type": "execute_result"
    }
   ],
   "source": [
    "# Create a single dataframe for training and validation data\n",
    "output_column_name = \"functional_representation\"\n",
    "new_df = pd.DataFrame()\n",
    "\n",
    "# Prepare training data\n",
    "prompts = [prompt_template.format(**row.to_dict()) for _, row in train_df.iterrows()]\n",
    "new_df[\"prompt\"] = prompts\n",
    "new_df[\"completion\"] = train_df[output_column_name]\n",
    "new_df[\"split\"] = \"train\"\n",
    "\n",
    "# Prepare validation data\n",
    "prompts_val = [prompt_template.format(**row.to_dict()) for _, row in val_df.iterrows()]\n",
    "new_df_val = pd.DataFrame()\n",
    "new_df_val[\"prompt\"] = prompts_val\n",
    "new_df_val[\"completion\"] = val_df[output_column_name]\n",
    "new_df_val[\"split\"] = \"evaluation\"\n",
    "\n",
    "# Combine train and validation\n",
    "new_df = pd.concat([new_df, new_df_val])\n",
    "new_df.reset_index(drop=True, inplace=True)\n",
    "\n",
    "print(f\"No. of Train Examples: {len(new_df[new_df['split'] == 'train'])}\")\n",
    "print(f\"No. of Eval Examples: {len(new_df[new_df['split'] == 'evaluation'])}\")\n",
    "\n",
    "print(\"Sample of prepared data:\")\n",
    "new_df.head()"
   ]
  },
  {
   "cell_type": "markdown",
   "metadata": {},
   "source": [
    "> It is a good practice to look at a few examples and check them."
   ]
  },
  {
   "cell_type": "code",
   "execution_count": 15,
   "metadata": {},
   "outputs": [
    {
     "name": "stdout",
     "output_type": "stream",
     "text": [
      "Given a target sentence convert it structured functional representation.\n",
      "\n",
      "### Target sentence: I thought that Tom Clancy's Splinter Cell: Chaos Theory was a pretty fun game. I like tactical action games like it and the M rating meant it didn't need to hold back with its content.\n",
      "\n",
      "### Output Functional representation:\n",
      "\n"
     ]
    }
   ],
   "source": [
    "# print one example\n",
    "print(new_df[\"prompt\"][0])"
   ]
  },
  {
   "cell_type": "markdown",
   "metadata": {},
   "source": [
    "You can also use `repr` to print the raw string and check if the prompt is formatted correctly\n"
   ]
  },
  {
   "cell_type": "code",
   "execution_count": 16,
   "metadata": {},
   "outputs": [
    {
     "name": "stdout",
     "output_type": "stream",
     "text": [
      "\"Given a target sentence convert it structured functional representation.\\n\\n### Target sentence: I thought that Tom Clancy's Splinter Cell: Chaos Theory was a pretty fun game. I like tactical action games like it and the M rating meant it didn't need to hold back with its content.\\n\\n### Output Functional representation:\\n\"\n"
     ]
    }
   ],
   "source": [
    "print(repr(new_df[\"prompt\"][0]))"
   ]
  },
  {
   "cell_type": "code",
   "execution_count": null,
   "metadata": {},
   "outputs": [],
   "source": [
    "# Save the prepared dataset to a CSV file\n",
    "new_df.to_csv(\"../viggo_train_val_dataset_1K.csv\", index=True)\n"
   ]
  },
  {
   "cell_type": "markdown",
   "metadata": {},
   "source": [
    "### Analyze the distribution of function names (full train dataset vs `1K`-dataset)\n",
    "I also carried out a small exercise to examine the frequency of different function types in both datasets to ensure that the `1K` subset is representative of the full dataset.\n",
    "\n",
    "![Function name distribution](Images/viggo_function_name_distribution_1K.png)\n",
    "\n",
    "If you look at the graphs above, the above dataset is pretty decent representation of full `5K` dataset.\n",
    "\n",
    "> See Analyze Viggo Dataset Notebook"
   ]
  },
  {
   "cell_type": "markdown",
   "metadata": {},
   "source": [
    "## Step 3: Upload the Dataset to Predibase\n",
    "You can connect your dataset to Predibase via the UI or Python SDK. Here, I will upload the dataset using SDK.\n",
    "\n",
    "> For larger datasets, it is better to store the data in cloud storage and connect the cloud storage."
   ]
  },
  {
   "cell_type": "code",
   "execution_count": 2,
   "metadata": {},
   "outputs": [
    {
     "data": {
      "text/html": [
       "<pre style=\"white-space:pre;overflow-x:auto;line-height:normal;font-family:Menlo,'DejaVu Sans Mono',consolas,'Courier New',monospace\"><span style=\"color: #000080; text-decoration-color: #000080; font-weight: bold\">Connected to Predibase as </span><span style=\"color: #800080; text-decoration-color: #800080; font-weight: bold\">User</span><span style=\"color: #000080; text-decoration-color: #000080; font-weight: bold\">(</span><span style=\"color: #808000; text-decoration-color: #808000; font-weight: bold\">id</span><span style=\"color: #000080; text-decoration-color: #000080; font-weight: bold\">=</span><span style=\"color: #ffff00; text-decoration-color: #ffff00\">19508e86</span><span style=\"color: #ffff00; text-decoration-color: #ffff00\">-d32f-4677-b0c5-0b3b2817c728</span><span style=\"color: #000080; text-decoration-color: #000080; font-weight: bold\">, </span><span style=\"color: #808000; text-decoration-color: #808000; font-weight: bold\">username</span><span style=\"color: #000080; text-decoration-color: #000080; font-weight: bold\">=</span><span style=\"color: #800080; text-decoration-color: #800080; font-weight: bold\">aayushgargiitr</span><span style=\"color: #000080; text-decoration-color: #000080; font-weight: bold\">@gmail.com)</span>\n",
       "</pre>\n"
      ],
      "text/plain": [
       "\u001b[1;34mConnected to Predibase as \u001b[0m\u001b[1;35mUser\u001b[0m\u001b[1;34m(\u001b[0m\u001b[1;33mid\u001b[0m\u001b[1;34m=\u001b[0m\u001b[93m19508e86\u001b[0m\u001b[93m-d32f-4677-b0c5-0b3b2817c728\u001b[0m\u001b[1;34m, \u001b[0m\u001b[1;33musername\u001b[0m\u001b[1;34m=\u001b[0m\u001b[1;35maayushgargiitr\u001b[0m\u001b[1;34m@gmail.com\u001b[0m\u001b[1;34m)\u001b[0m\n"
      ]
     },
     "metadata": {},
     "output_type": "display_data"
    }
   ],
   "source": [
    "# Initialize Predibase client\n",
    "pb = Predibase(api_token=os.environ[\"PREDIBASE_API_TOKEN\"])\n"
   ]
  },
  {
   "cell_type": "code",
   "execution_count": 58,
   "metadata": {},
   "outputs": [],
   "source": [
    "# Upload the dataset\n",
    "dataset = pb.datasets.from_file(\"viggo_train_val_dataset_1K.csv\", name=\"viggo_train_val_dataset_1K\")\n",
    "print(\"Dataset uploaded successfully\")\n"
   ]
  },
  {
   "cell_type": "markdown",
   "metadata": {},
   "source": [
    "## Step 4: Set Up and Run Fine-tuning"
   ]
  },
  {
   "cell_type": "code",
   "execution_count": 59,
   "metadata": {},
   "outputs": [],
   "source": [
    "# Create an adapter repository\n",
    "repo = pb.repos.create(name=\"viggo-finetune-1K\", description=\"Llama-3-8b adapter repository for viggo 1K examples\")\n",
    "print(\"Adapter repository created\")"
   ]
  },
  {
   "cell_type": "code",
   "execution_count": 61,
   "metadata": {},
   "outputs": [
    {
     "name": "stdout",
     "output_type": "stream",
     "text": [
      "Successfully requested finetuning of llama-3-8b as `viggo-finetune-1K/2`. (Job UUID: 38ccb63e-9d5e-4e3d-bfff-5bde40beac8b).\n",
      "\n",
      "Watching progress of finetuning job 38ccb63e-9d5e-4e3d-bfff-5bde40beac8b. This call will block until the job has finished. Canceling or terminating this call will NOT cancel or terminate the job itself.\n",
      "\n",
      "Job is starting. Total queue time: 0:06:47         \n",
      "Waiting to receive training metrics...\n",
      "\n",
      "┌────────────┬────────────┬─────────────────┐\n",
      "│ checkpoint \u001b[0m│ train_loss \u001b[0m│ validation_loss \u001b[0m│\n",
      "├────────────┼────────────┼─────────────────┤\n",
      "│     1      \u001b[0m│   0.7881   \u001b[0m│      0.9428     \u001b[0m│\n",
      "│     2      \u001b[0m│   0.2485   \u001b[0m│      0.3695     \u001b[0m│\n",
      "│     3      \u001b[0m│   0.2129   \u001b[0m│      0.1614     \u001b[0m│\n",
      "└────────────┴────────────┴─────────────────┘\n"
     ]
    }
   ],
   "source": [
    "# Create and run the fine-tuning job\n",
    "adapter = pb.adapters.create(\n",
    "   config=FinetuningConfig(\n",
    "       base_model=\"llama-3-8b\",\n",
    "       epochs=3,\n",
    "       rank=16,\n",
    "       learning_rate=0.0002,\n",
    "   ),\n",
    "   dataset=dataset,\n",
    "   repo=repo,\n",
    "   description=\"baseline-llama-3-8b\",\n",
    ")"
   ]
  },
  {
   "cell_type": "markdown",
   "metadata": {},
   "source": [
    "## Step 5: Evaluate the Fine-tuned Model\n",
    "\n",
    "To maintain consistency with previous evaluations (notebooks links) and enable direct comparisons with previous benchmarks, I assess the fine-tuned model's performance on the official `validation` split of the ViGGO dataset.\n",
    "\n",
    "> Note: I create serverless endpoint for this case. Since, Serverless deployments are available for free inference."
   ]
  },
  {
   "cell_type": "code",
   "execution_count": null,
   "metadata": {},
   "outputs": [],
   "source": [
    "# Initialize the Predibase deployment client\n",
    "lorax_client = pb.deployments.client(\"llama-3-8b\")"
   ]
  },
  {
   "cell_type": "code",
   "execution_count": 6,
   "metadata": {},
   "outputs": [],
   "source": [
    "# Load the validation dataset\n",
    "viggo_dataset = load_dataset(\"GEM/viggo\")\n",
    "val_dataset = viggo_dataset['validation']"
   ]
  },
  {
   "cell_type": "markdown",
   "metadata": {},
   "source": [
    "First generate response for single example"
   ]
  },
  {
   "cell_type": "code",
   "execution_count": 7,
   "metadata": {},
   "outputs": [
    {
     "name": "stdout",
     "output_type": "stream",
     "text": [
      "inform(name[Rise of the Tomb Raider], genres[action-adventure, shooter], has_multiplayer[yes], player_perspective[first person, third person])\n",
      "inform(name[Rise of the Tomb Raider], genres[action-adventure, shooter], player_perspective[first person, third person], has_multiplayer[yes]) \n",
      "\n"
     ]
    }
   ],
   "source": [
    "idx = 100\n",
    "lorax_client = pb.deployments.client(\"llama-3-8b\")\n",
    "print(lorax_client.generate(prompt_template.format(text=val_dataset[\"target\"][idx]), adapter_id=\"viggo-finetune-1K/2\", max_new_tokens=150).generated_text)\n",
    "print(val_dataset[\"meaning_representation\"][idx], '\\n')\n"
   ]
  },
  {
   "cell_type": "markdown",
   "metadata": {},
   "source": [
    "### Generate the responses on the validation dataset\n",
    "\n",
    "Do remember to change this to the correct adapter id (check the adapter id in the predibase dashboard)\n"
   ]
  },
  {
   "cell_type": "code",
   "execution_count": 21,
   "metadata": {},
   "outputs": [],
   "source": [
    "adapter_id = \"viggo-finetune-1K/2\" "
   ]
  },
  {
   "cell_type": "code",
   "execution_count": 17,
   "metadata": {},
   "outputs": [
    {
     "name": "stdout",
     "output_type": "stream",
     "text": [
      "Processing 0/714\n",
      "Processing 50/714\n",
      "Processing 100/714\n",
      "Processing 150/714\n",
      "Processing 200/714\n",
      "Processing 250/714\n",
      "Processing 300/714\n",
      "Processing 350/714\n",
      "Processing 400/714\n",
      "Processing 450/714\n",
      "Processing 500/714\n",
      "Processing 550/714\n",
      "Processing 600/714\n",
      "Processing 650/714\n",
      "Processing 700/714\n"
     ]
    }
   ],
   "source": [
    "responses_dict = {}\n",
    "for idx in range(len(val_dataset)):\n",
    "    if idx % 50 == 0: print(f\"Processing {idx}/{len(val_dataset)}\")\n",
    "    output = lorax_client.generate(prompt_template.format(text=val_dataset[\"target\"][idx]), adapter_id=adapter_id, max_new_tokens=150).generated_text\n",
    "    ground_truth = val_dataset[\"meaning_representation\"][idx]\n",
    "    text = val_dataset[\"target\"][idx]\n",
    "    responses_dict[idx] = {\"output\": output, \"ground_truth\": ground_truth, \"text\": text}\n",
    "    # if idx > 5: break\n",
    "\n",
    "# write the responses to a json file\n",
    "with open(\"viggo_responses_predibase_finetune-1K_2.json\", \"w\") as f:\n",
    "    json.dump(responses_dict, f)\n",
    "\n",
    "    "
   ]
  },
  {
   "cell_type": "code",
   "execution_count": 18,
   "metadata": {},
   "outputs": [
    {
     "name": "stdout",
     "output_type": "stream",
     "text": [
      "Index: 0\n",
      "Ground Truth:   give_opinion(name[SpellForce 3], release_year[2017], developer[Grimlore Games], rating[poor])\n",
      "Output:         give_opinion(name[SpellForce 3], release_year[2017], developer[Grimlore Games], rating[poor])\n",
      "Index: 100\n",
      "Ground Truth:   inform(name[Rise of the Tomb Raider], genres[action-adventure, shooter], player_perspective[first person, third person], has_multiplayer[yes])\n",
      "Output:         inform(name[Rise of the Tomb Raider], genres[action-adventure, shooter], has_multiplayer[yes], player_perspective[first person, third person])\n",
      "Index: 200\n",
      "Ground Truth:   inform(name[Spider-Man], exp_release_date[September 7, 2018], genres[action-adventure])\n",
      "Output:         inform(name[Spider-Man], release_date[September 7, 2018], genres[action-adventure])\n",
      "Index: 300\n",
      "Ground Truth:   recommend(name[The Witcher 3: Wild Hunt], esrb[M (for Mature)])\n",
      "Output:         suggest(name[The Witcher 3: Wild Hunt], esrb[M (for Mature)], rating[good])\n",
      "Index: 400\n",
      "Ground Truth:   inform(name[A Way Out], release_year[2018], rating[good], genres[action-adventure], player_perspective[third person], has_multiplayer[yes])\n",
      "Output:         inform(name[A Way Out], release_year[2018], genres[action-adventure, adventure], player_perspective[third person], has_multiplayer[yes])\n",
      "Index: 500\n",
      "Ground Truth:   request_explanation(rating[good], genres[action-adventure, platformer])\n",
      "Output:         request_explanation(rating[good], genres[action-adventure, platformer])\n",
      "Index: 600\n",
      "Ground Truth:   inform(name[Dance Dance Revolution Universe 3], release_year[2008], rating[poor], genres[music], platforms[Xbox])\n",
      "Output:         inform(name[Dance Dance Revolution Universe 3], release_year[2008], rating[poor], genres[music], platforms[Xbox], has_player_reviews[yes])\n",
      "Index: 700\n",
      "Ground Truth:   request_explanation(rating[average], genres[role-playing, shooter], player_perspective[first person])\n",
      "Output:         request_explanation(rating[average], genres[role-playing, shooter], player_perspective[first person])\n"
     ]
    }
   ],
   "source": [
    "# Print some responses and ground truths\n",
    "for i, (k,v) in enumerate(responses_dict.items()):\n",
    "    if i % 100 == 0: \n",
    "        print(f\"Index: {i}\")\n",
    "        print(f\"{'Ground Truth:':15s} {v['ground_truth']}\")\n",
    "        print(f\"{'Output:':15s} {v['output']}\")\n",
    "        "
   ]
  },
  {
   "cell_type": "code",
   "execution_count": null,
   "metadata": {},
   "outputs": [],
   "source": [
    "# Save the responses to a JSON file\n",
    "with open(\"../responses/llama3-8B_predibase_finetune-1K_2.json\", \"w\") as f:\n",
    "    json.dump(responses_dict, f)"
   ]
  },
  {
   "cell_type": "markdown",
   "metadata": {},
   "source": [
    "### Evaluate the scores based on the evaluation criteria\n",
    "- See earlier notebook and blog to understand the evaluation criteria used"
   ]
  },
  {
   "cell_type": "markdown",
   "metadata": {},
   "source": [
    "### Calculate and print evaluation scores\n"
   ]
  },
  {
   "cell_type": "code",
   "execution_count": 42,
   "metadata": {},
   "outputs": [
    {
     "name": "stdout",
     "output_type": "stream",
     "text": [
      "\n",
      "Evaluation Scores:\n",
      "exact_match                         : 0.3221\n",
      "function_name_match                 : 0.7787\n",
      "function_attribute_match            : 0.4692\n",
      "function_attribute_values_match     : 0.3739\n"
     ]
    }
   ],
   "source": [
    "_, avg_scores = calculate_scores(responses_dict) # see helper_functions.py\n",
    "print(\"\\nEvaluation Scores:\")\n",
    "for metric, score in avg_scores.items():\n",
    "    print(f\"{metric:36s}: {score:.4f}\")\n"
   ]
  },
  {
   "cell_type": "markdown",
   "metadata": {},
   "source": [
    "### Comparing it with GPT-4o and Sonnet 3.5 scores"
   ]
  },
  {
   "cell_type": "code",
   "execution_count": 43,
   "metadata": {},
   "outputs": [
    {
     "data": {
      "image/png": "[encoded data removed]",
      "text/plain": [
       "<Figure size 1600x1000 with 1 Axes>"
      ]
     },
     "metadata": {},
     "output_type": "display_data"
    }
   ],
   "source": [
    "responses_dir = \"responses/\"\n",
    "responses_dict_names = {\n",
    "                        \"gpt-4o\": \"gpt-4o_responses_viggo_val.json\",\n",
    "                        \"sonnet 3.5\": \"sonnet-3.5_responses_viggo_val.json\",\n",
    "                        \"llama3-8b-finetune\": \"llama3-8B_predibase_finetune-1K_2.json\"\n",
    "                        }\n",
    "all_results = {}                 \n",
    "\n",
    "\n",
    "for name, responses_file in responses_dict_names.items():\n",
    "    responses_path = f'{responses_dir}/{responses_file}'\n",
    "    with open(responses_path, \"r\") as f:\n",
    "        responses_dict = json.load(f)\n",
    "    _, avg_scores = calculate_scores(responses_dict)\n",
    "    all_results[name] = avg_scores\n",
    "\n",
    "\n",
    "# Plot all metrics for all models and get the figure\n",
    "fig = plot_all_model_performance(pd.DataFrame(all_results).T)\n",
    "\n",
    "# Display the plot (optional)\n",
    "plt.show()\n",
    "\n",
    "# # Save the figure\n",
    "# fig.savefig(f\"{out_plot_dir}/all_metrics_comparison.png\", dpi=300, bbox_inches='tight')\n",
    "\n",
    "# # Close the figure to free up memory\n",
    "# plt.close(fig)"
   ]
  },
  {
   "cell_type": "markdown",
   "metadata": {},
   "source": [
    "- The initial finetuning of llama-3-8b using 1,000 random examples from the Viggo dataset, while not surpassing GPT-4 and Sonnet 3.5, shows promising results and outperforms several models from our previous blog. \n",
    "- **This demonstrates the potential of targeted finetuning even with limited data.**\n",
    "- There's a big scope of improvement through hyperparameter tuning, dataset distribution changes etc.\n",
    "- a quick and resource-efficient approach to potentially boost performance is refining the prompt template. A well-crafted prompt can guide the model finetuning more effectively"
   ]
  },
  {
   "cell_type": "markdown",
   "metadata": {},
   "source": [
    "## Experiment-2 with updated prompt template\n",
    "Following the initial finetuning experiment, I think I can improve the model's performance by refining the prompt template by providing clearer instructions to the model that conveys what is the structure of functional representation.  The updated prompt template reads:\n"
   ]
  },
  {
   "cell_type": "code",
   "execution_count": 44,
   "metadata": {},
   "outputs": [],
   "source": [
    "prompt_template = \"\"\"Given a target sentence construct the underlying meaningful functional representation of the input sentence as a single function with attributes and attribute values.\n",
    "\n",
    "### Target sentence: {text}\n",
    "\n",
    "### Output Functional representation:\n",
    "\"\"\""
   ]
  },
  {
   "cell_type": "markdown",
   "metadata": {},
   "source": [
    "### Create and upload the dataset"
   ]
  },
  {
   "cell_type": "code",
   "execution_count": 45,
   "metadata": {},
   "outputs": [
    {
     "name": "stdout",
     "output_type": "stream",
     "text": [
      "No. of Train Examplaes:  900 \n",
      "No. of Eval Examples 100\n"
     ]
    },
    {
     "data": {
      "text/html": [
       "<div>\n",
       "<style scoped>\n",
       "    .dataframe tbody tr th:only-of-type {\n",
       "        vertical-align: middle;\n",
       "    }\n",
       "\n",
       "    .dataframe tbody tr th {\n",
       "        vertical-align: top;\n",
       "    }\n",
       "\n",
       "    .dataframe thead th {\n",
       "        text-align: right;\n",
       "    }\n",
       "</style>\n",
       "<table border=\"1\" class=\"dataframe\">\n",
       "  <thead>\n",
       "    <tr style=\"text-align: right;\">\n",
       "      <th></th>\n",
       "      <th>prompt</th>\n",
       "      <th>completion</th>\n",
       "      <th>split</th>\n",
       "    </tr>\n",
       "  </thead>\n",
       "  <tbody>\n",
       "    <tr>\n",
       "      <th>0</th>\n",
       "      <td>Given a target sentence construct the underlyi...</td>\n",
       "      <td>give_opinion(name[Tom Clancy's Splinter Cell: ...</td>\n",
       "      <td>train</td>\n",
       "    </tr>\n",
       "    <tr>\n",
       "      <th>1</th>\n",
       "      <td>Given a target sentence construct the underlyi...</td>\n",
       "      <td>inform(name[Tomb Raider: The Last Revelation],...</td>\n",
       "      <td>train</td>\n",
       "    </tr>\n",
       "    <tr>\n",
       "      <th>2</th>\n",
       "      <td>Given a target sentence construct the underlyi...</td>\n",
       "      <td>verify_attribute(name[The Elder Scrolls V: Sky...</td>\n",
       "      <td>train</td>\n",
       "    </tr>\n",
       "    <tr>\n",
       "      <th>3</th>\n",
       "      <td>Given a target sentence construct the underlyi...</td>\n",
       "      <td>give_opinion(name[The Elder Scrolls V: Skyrim]...</td>\n",
       "      <td>train</td>\n",
       "    </tr>\n",
       "    <tr>\n",
       "      <th>4</th>\n",
       "      <td>Given a target sentence construct the underlyi...</td>\n",
       "      <td>request_explanation(rating[poor], genres[text ...</td>\n",
       "      <td>train</td>\n",
       "    </tr>\n",
       "  </tbody>\n",
       "</table>\n",
       "</div>"
      ],
      "text/plain": [
       "                                              prompt  \\\n",
       "0  Given a target sentence construct the underlyi...   \n",
       "1  Given a target sentence construct the underlyi...   \n",
       "2  Given a target sentence construct the underlyi...   \n",
       "3  Given a target sentence construct the underlyi...   \n",
       "4  Given a target sentence construct the underlyi...   \n",
       "\n",
       "                                          completion  split  \n",
       "0  give_opinion(name[Tom Clancy's Splinter Cell: ...  train  \n",
       "1  inform(name[Tomb Raider: The Last Revelation],...  train  \n",
       "2  verify_attribute(name[The Elder Scrolls V: Sky...  train  \n",
       "3  give_opinion(name[The Elder Scrolls V: Skyrim]...  train  \n",
       "4  request_explanation(rating[poor], genres[text ...  train  "
      ]
     },
     "execution_count": 45,
     "metadata": {},
     "output_type": "execute_result"
    }
   ],
   "source": [
    "output_column_name = \"functional_representation\"\n",
    "new_df = pd.DataFrame()\n",
    "\n",
    "prompts = []\n",
    "for index, row in train_df.iterrows():\n",
    "    prompt = prompt_template.format(**row.to_dict())\n",
    "    prompts.append(prompt)\n",
    "\n",
    "new_df[\"prompt\"] = prompts\n",
    "new_df[\"completion\"] = train_df[output_column_name]\n",
    "new_df[\"split\"] = \"train\"\n",
    "\n",
    "# similar for validation\n",
    "prompts = []\n",
    "for index, row in val_df.iterrows():\n",
    "    prompt = prompt_template.format(**row.to_dict())\n",
    "    prompts.append(prompt)\n",
    "new_df_val = pd.DataFrame()\n",
    "new_df_val[\"prompt\"] = prompts\n",
    "new_df_val[\"completion\"] = val_df[output_column_name]\n",
    "new_df_val[\"split\"] = \"evaluation\"\n",
    "\n",
    "# combine train and validation\n",
    "new_df = pd.concat([new_df, new_df_val])\n",
    "\n",
    "# change index\n",
    "new_df.reset_index(drop=True, inplace=True)\n",
    "\n",
    "print(\"No. of Train Examplaes: \", len(new_df[new_df[\"split\"] == \"train\"]), \"\\nNo. of Eval Examples\", len(new_df[new_df[\"split\"] == \"evaluation\"]))\n",
    "\n",
    "\n",
    "new_df.head()\n"
   ]
  },
  {
   "cell_type": "code",
   "execution_count": 46,
   "metadata": {},
   "outputs": [
    {
     "name": "stdout",
     "output_type": "stream",
     "text": [
      "\"Given a target sentence construct the underlying meaningful functional representation of the input sentence as a single function with attributes and attribute values.\\n\\n### Target sentence: I thought that Tom Clancy's Splinter Cell: Chaos Theory was a pretty fun game. I like tactical action games like it and the M rating meant it didn't need to hold back with its content.\\n\\n### Output Functional representation:\\n\"\n"
     ]
    }
   ],
   "source": [
    "# sanity check\n",
    "print(repr(new_df[\"prompt\"][0]))"
   ]
  },
  {
   "cell_type": "code",
   "execution_count": 13,
   "metadata": {},
   "outputs": [],
   "source": [
    "new_df.to_csv(\"viggo_train_val_dataset_1K_PromptTempUpdate.csv\", index=True)"
   ]
  },
  {
   "cell_type": "code",
   "execution_count": 48,
   "metadata": {},
   "outputs": [],
   "source": [
    "dataset = pb.datasets.from_file(\"viggo_train_val_dataset_1K_PromptTempUpdate.csv\", name=\"viggo_train_val_dataset_1K_PromptTempUpdate\")"
   ]
  },
  {
   "cell_type": "markdown",
   "metadata": {},
   "source": [
    "### Finetune and evaluate"
   ]
  },
  {
   "cell_type": "code",
   "execution_count": 22,
   "metadata": {},
   "outputs": [
    {
     "name": "stdout",
     "output_type": "stream",
     "text": [
      "Successfully requested finetuning of llama-3-8b as `viggo-finetune-1K/3`. (Job UUID: c3e4cbf5-12b5-4bd2-9f6e-c28b2428bed7).\n",
      "\n",
      "Watching progress of finetuning job c3e4cbf5-12b5-4bd2-9f6e-c28b2428bed7. This call will block until the job has finished. Canceling or terminating this call will NOT cancel or terminate the job itself.\n",
      "\n",
      "Job is starting. Total queue time: 0:00:47         \n",
      "Waiting to receive training metrics...\n",
      "\n",
      "┌────────────┬────────────┬─────────────────┐\n",
      "│ checkpoint \u001b[0m│ train_loss \u001b[0m│ validation_loss \u001b[0m│\n",
      "├────────────┼────────────┼─────────────────┤\n",
      "│     1      \u001b[0m│   0.6596   \u001b[0m│      0.8267     \u001b[0m│\n",
      "│     2      \u001b[0m│   0.2259   \u001b[0m│      0.3548     \u001b[0m│\n",
      "│     3      \u001b[0m│   0.2053   \u001b[0m│      0.1601     \u001b[0m│\n",
      "└────────────┴────────────┴─────────────────┘\n"
     ]
    }
   ],
   "source": [
    "# Create an adapter\n",
    "adapter = pb.adapters.create(\n",
    "   config=FinetuningConfig(\n",
    "       base_model=\"llama-3-8b\",\n",
    "       epochs=3,\n",
    "       rank=16,\n",
    "       learning_rate=0.0002,\n",
    "   ),\n",
    "   dataset=dataset,\n",
    "   repo=repo, # use the same repo as before\n",
    "   description=\"llama-3-8b-prompt-temp-update\",\n",
    ")"
   ]
  },
  {
   "cell_type": "code",
   "execution_count": 23,
   "metadata": {},
   "outputs": [],
   "source": [
    "viggo_dataset = load_dataset(\"GEM/viggo\")\n",
    "val_dataset = viggo_dataset['validation']"
   ]
  },
  {
   "cell_type": "code",
   "execution_count": 27,
   "metadata": {},
   "outputs": [
    {
     "name": "stdout",
     "output_type": "stream",
     "text": [
      "Processing 0/714\n",
      "Processing 50/714\n",
      "Processing 100/714\n",
      "Processing 150/714\n",
      "Processing 200/714\n",
      "Processing 250/714\n",
      "Processing 300/714\n",
      "Processing 350/714\n",
      "Processing 400/714\n",
      "Processing 450/714\n",
      "Processing 500/714\n",
      "Processing 550/714\n",
      "Processing 600/714\n",
      "Processing 650/714\n",
      "Processing 700/714\n"
     ]
    }
   ],
   "source": [
    "responses_dict = {}\n",
    "adapter_id = \"viggo-finetune-1K/3\"\n",
    "for idx in range(len(val_dataset)):\n",
    "    if idx % 50 == 0: print(f\"Processing {idx}/{len(val_dataset)}\")\n",
    "    output = lorax_client.generate(prompt_template.format(text=val_dataset[\"target\"][idx]), adapter_id=adapter_id, max_new_tokens=150).generated_text\n",
    "    ground_truth = val_dataset[\"meaning_representation\"][idx]\n",
    "    text = val_dataset[\"target\"][idx]\n",
    "    responses_dict[idx] = {\"output\": output, \"ground_truth\": ground_truth, \"text\": text}\n",
    "    # if idx > 5: break\n",
    "\n",
    "# write the responses to a json file\n",
    "with open(\"llama3-8B_predibase_finetune-1K_3.json\", \"w\") as f:\n",
    "    json.dump(responses_dict, f)\n",
    "\n",
    "    "
   ]
  },
  {
   "cell_type": "code",
   "execution_count": 50,
   "metadata": {},
   "outputs": [],
   "source": [
    "# Save the responses to a JSON file\n",
    "with open(\"responses/llama3-8B_predibase_finetune-1K_3.json\", \"r\") as f:\n",
    "    responses_dict = json.load(f)"
   ]
  },
  {
   "cell_type": "code",
   "execution_count": 52,
   "metadata": {},
   "outputs": [
    {
     "name": "stdout",
     "output_type": "stream",
     "text": [
      "\n",
      "Evaluation Scores:\n",
      "exact_match                         : 0.3473\n",
      "function_name_match                 : 0.7941\n",
      "function_attribute_match            : 0.5196\n",
      "function_attribute_values_match     : 0.4202\n"
     ]
    }
   ],
   "source": [
    "_, avg_scores = calculate_scores(responses_dict) # see helper_functions.py\n",
    "print(\"\\nEvaluation Scores:\")\n",
    "for metric, score in avg_scores.items():\n",
    "    print(f\"{metric:36s}: {score:.4f}\")\n"
   ]
  },
  {
   "cell_type": "markdown",
   "metadata": {},
   "source": [
    "### Compare the evaluate scores"
   ]
  },
  {
   "cell_type": "code",
   "execution_count": 54,
   "metadata": {},
   "outputs": [
    {
     "data": {
      "image/png": "[encoded data removed]",
      "text/plain": [
       "<Figure size 1600x1000 with 1 Axes>"
      ]
     },
     "metadata": {},
     "output_type": "display_data"
    }
   ],
   "source": [
    "responses_dir = \"responses/\"\n",
    "responses_dict_names = {\n",
    "                        \"gpt-4o\": \"gpt-4o_responses_viggo_val.json\",\n",
    "                        \"sonnet 3.5\": \"sonnet-3.5_responses_viggo_val.json\",\n",
    "                        \"llama3-8b-finetune\": \"llama3-8B_predibase_finetune-1K_2.json\",\n",
    "                        \"llama3-8b-finetune-update\": \"llama3-8B_predibase_finetune-1K_3.json\"\n",
    "                        }\n",
    "all_results = {}                 \n",
    "\n",
    "\n",
    "for name, responses_file in responses_dict_names.items():\n",
    "    responses_path = f'{responses_dir}/{responses_file}'\n",
    "    with open(responses_path, \"r\") as f:\n",
    "        responses_dict = json.load(f)\n",
    "    _, avg_scores = calculate_scores(responses_dict)\n",
    "    all_results[name] = avg_scores\n",
    "\n",
    "\n",
    "# Plot all metrics for all models and get the figure\n",
    "fig = plot_all_model_performance(pd.DataFrame(all_results).T)\n",
    "\n",
    "# Display the plot (optional)\n",
    "plt.show()"
   ]
  },
  {
   "cell_type": "markdown",
   "metadata": {},
   "source": [
    "The updated prompt template (**llama3-8b-finetune-update**) shows improvements over the initial finetuned model (llama3-8b-finetune) in all metrics. "
   ]
  },
  {
   "cell_type": "markdown",
   "metadata": {},
   "source": [
    "## Conclusions"
   ]
  },
  {
   "cell_type": "markdown",
   "metadata": {},
   "source": [
    "- Predibase offers a user-friendly platform for fine-tuning large language models. I was able to quickly setup and finetune the llm models. While there are some limitations such as restricted hyperparameter tuning, standardized dataset format, and inability to download adapters (in the developer tier), \n",
    "- **The overall experience is positive, particularly in terms of rapid finetuning of models.** No need to setup server/docker image or install packages, just focus on finetune! They also over options for dedicated deployment. I would definitely look into it sometime in future.\n",
    "- I achieve out-of-the-box performance using only random `1K` examples. **This demonstrates the potential of fine-tuning with limited data, highlighting the efficiency of the approach for task-specific model adaptation.**\n",
    "- Although the fine-tuned llama-3-8b model doesn't match the performance of GPT-4 and Sonnet 3.5, it establishes a strong baseline. The results suggest significant room for improvement even within the constraint of 1,000 examples."
   ]
  },
  {
   "cell_type": "markdown",
   "metadata": {},
   "source": [
    "## Next steps.."
   ]
  },
  {
   "cell_type": "markdown",
   "metadata": {},
   "source": [
    "My next goal is to further explore how much I can improve the performance on evaluation metrics by fine-tuning with a maximum of 1,000 training examples through techniques such as careful diverse example selection, better prompt templates, hyperparameter tuning, and experimenting with different base models."
   ]
  },
  {
   "cell_type": "markdown",
   "metadata": {},
   "source": []
  }
 ],
 "metadata": {
  "kernelspec": {
   "display_name": "predibase",
   "language": "python",
   "name": "python3"
  },
  "language_info": {
   "codemirror_mode": {
    "name": "ipython",
    "version": 3
   },
   "file_extension": ".py",
   "mimetype": "text/x-python",
   "name": "python",
   "nbconvert_exporter": "python",
   "pygments_lexer": "ipython3",
   "version": "3.10.14"
  }
 },
 "nbformat": 4,
 "nbformat_minor": 2
}
